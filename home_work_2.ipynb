{
  "nbformat": 4,
  "nbformat_minor": 0,
  "metadata": {
    "colab": {
      "provenance": [],
      "authorship_tag": "ABX9TyOP5wyAyC8acUoScOK0J1D0",
      "include_colab_link": true
    },
    "kernelspec": {
      "name": "python3",
      "display_name": "Python 3"
    },
    "language_info": {
      "name": "python"
    }
  },
  "cells": [
    {
      "cell_type": "markdown",
      "metadata": {
        "id": "view-in-github",
        "colab_type": "text"
      },
      "source": [
        "<a href=\"https://colab.research.google.com/github/VladShajdulin/OTUS/blob/main/home_work_2.ipynb\" target=\"_parent\"><img src=\"https://colab.research.google.com/assets/colab-badge.svg\" alt=\"Open In Colab\"/></a>"
      ]
    },
    {
      "cell_type": "code",
      "execution_count": 25,
      "metadata": {
        "id": "zVe6GduqDiEi"
      },
      "outputs": [],
      "source": [
        "import torch\n",
        "from torch import nn\n",
        "from torch.utils.data import DataLoader\n",
        "from torch.utils.data import Dataset\n",
        "from sklearn.model_selection import train_test_split"
      ]
    },
    {
      "cell_type": "code",
      "source": [
        "low, high = -10, 10\n",
        "n_size = 20000\n",
        "\n",
        "torch.manual_seed(142)\n",
        "X = (high - low) * torch.rand((n_size, 2), dtype=torch.float64) + low\n",
        "y = torch.sin(X[:,0] + 2 * X[:,1]) * torch.exp(-(2 * X[:,0] + X[:,1]) ** 2)\n",
        "y = torch.unsqueeze(y, -1)"
      ],
      "metadata": {
        "id": "Ja3ZQIUIJXCI"
      },
      "execution_count": 99,
      "outputs": []
    },
    {
      "cell_type": "code",
      "source": [
        "X_train, X_test, y_train, y_test = train_test_split(X, y, test_size=0.3, random_state=142)\n",
        "X_val, X_test, y_val, y_test = train_test_split(X_test, y_test, test_size=0.5, random_state=142)\n",
        "\n",
        "print(f'Training samples: {X_train.size()[0]}')\n",
        "print(f'Validating samples: {X_val.size()[0]}')\n",
        "print(f'Training samples: {X_test.size()[0]}')"
      ],
      "metadata": {
        "id": "Lx5dIrVoxVaA",
        "outputId": "f6277f15-4c9d-453d-9a86-7b4b2bee6f7a",
        "colab": {
          "base_uri": "https://localhost:8080/"
        }
      },
      "execution_count": 100,
      "outputs": [
        {
          "output_type": "stream",
          "name": "stdout",
          "text": [
            "Training samples: 14000\n",
            "Validating samples: 3000\n",
            "Training samples: 3000\n"
          ]
        }
      ]
    },
    {
      "cell_type": "code",
      "source": [
        "class XY_dataset(Dataset):\n",
        "  def __init__(self, X, y):\n",
        "    self.X = X\n",
        "    self.y = y\n",
        "\n",
        "  def __len__(self):\n",
        "    return X.size()[0]\n",
        "\n",
        "  def __getitem__(self, idx):\n",
        "    return X[idx], y[idx]"
      ],
      "metadata": {
        "id": "xYJ6VGANtvkf"
      },
      "execution_count": 101,
      "outputs": []
    },
    {
      "cell_type": "code",
      "source": [
        "def train(dataloader, model, loss_fn, optimizer, device=device):\n",
        "  size = len(dataloader.dataset)\n",
        "  model.train()\n",
        "  for batch, (X, y) in enumerate(dataloader):\n",
        "      X, y = X.to(device), y.to(device)\n",
        "\n",
        "      # Compute prediction error\n",
        "      pred = model(X)\n",
        "      loss = loss_fn(pred, y)\n",
        "\n",
        "      # Backpropagation\n",
        "      loss.backward()\n",
        "      optimizer.step()\n",
        "      optimizer.zero_grad()\n",
        "\n",
        "      if batch % 10 == 0:\n",
        "          loss, current = loss.item(), (batch + 1) * len(X)\n",
        "          print(f\"loss: {loss:>7f}  [{current:>5d}/{size:>5d}]\")\n",
        "\n",
        "\n",
        "def val(X, y, model, loss_fn):\n",
        "  model.eval()\n",
        "  with torch.no_grad():\n",
        "    pred = model(X)\n",
        "    loss = loss_fn(pred, y).item()\n",
        "\n",
        "  print(f\"\\n Val loss: {loss:>7f} \\n\")"
      ],
      "metadata": {
        "id": "sxyfJcBb25uV"
      },
      "execution_count": 102,
      "outputs": []
    },
    {
      "cell_type": "code",
      "source": [
        "model_1 = nn.Sequential(\n",
        "    nn.Linear(2, 10, dtype=torch.float64),\n",
        "    nn.LeakyReLU(),\n",
        "    nn.Linear(10, 5, dtype=torch.float64),\n",
        "    nn.LeakyReLU(),\n",
        "    nn.Linear(5, 1, dtype=torch.float64)\n",
        ")"
      ],
      "metadata": {
        "id": "B5ofmUZqzzer"
      },
      "execution_count": 103,
      "outputs": []
    },
    {
      "cell_type": "code",
      "source": [
        "batch_size = 256\n",
        "\n",
        "train_loader = XY_dataset(X_train, y_train)\n",
        "train_loader = DataLoader(train_loader, shuffle=True, batch_size=batch_size)\n",
        "device = torch.accelerator.current_accelerator().type if torch.accelerator.is_available() else 'cpu'\n",
        "print('Device', device)"
      ],
      "metadata": {
        "id": "u9nB-mvnzDre",
        "outputId": "5487aba3-6cc4-4a66-b147-aacc133b5e90",
        "colab": {
          "base_uri": "https://localhost:8080/"
        }
      },
      "execution_count": 104,
      "outputs": [
        {
          "output_type": "stream",
          "name": "stdout",
          "text": [
            "Device cpu\n"
          ]
        }
      ]
    },
    {
      "cell_type": "code",
      "source": [
        "loss_fn = nn.MSELoss()\n",
        "optimizer = torch.optim.Adam(model_1.parameters(), lr=5e-5)\n",
        "epochs = 15\n",
        "\n",
        "for t in range(epochs):\n",
        "  print(f\"Epoch {t+1}\\n-------------------------------\")\n",
        "  train(train_loader, model_1, loss_fn, optimizer)\n",
        "  val(X_val, y_val, model_1, loss_fn)\n",
        "print(\"Done!\")"
      ],
      "metadata": {
        "id": "M4XNSnPL7pDY",
        "outputId": "00276e1a-762c-4980-c9aa-50c71a4bc0de",
        "colab": {
          "base_uri": "https://localhost:8080/"
        }
      },
      "execution_count": 106,
      "outputs": [
        {
          "output_type": "stream",
          "name": "stdout",
          "text": [
            "Epoch 1\n",
            "-------------------------------\n",
            "loss: 0.048410  [  256/20000]\n",
            "loss: 0.042024  [ 2816/20000]\n",
            "loss: 0.047585  [ 5376/20000]\n",
            "loss: 0.046550  [ 7936/20000]\n",
            "loss: 0.038611  [10496/20000]\n",
            "loss: 0.036878  [13056/20000]\n",
            "loss: 0.039830  [15616/20000]\n",
            "loss: 0.049744  [18176/20000]\n",
            "\n",
            " Val loss: 0.037723 \n",
            "\n",
            "Epoch 2\n",
            "-------------------------------\n",
            "loss: 0.047640  [  256/20000]\n",
            "loss: 0.040932  [ 2816/20000]\n",
            "loss: 0.034402  [ 5376/20000]\n",
            "loss: 0.040704  [ 7936/20000]\n",
            "loss: 0.027192  [10496/20000]\n",
            "loss: 0.028488  [13056/20000]\n",
            "loss: 0.029500  [15616/20000]\n",
            "loss: 0.047069  [18176/20000]\n",
            "\n",
            " Val loss: 0.032756 \n",
            "\n",
            "Epoch 3\n",
            "-------------------------------\n",
            "loss: 0.047744  [  256/20000]\n",
            "loss: 0.030959  [ 2816/20000]\n",
            "loss: 0.040355  [ 5376/20000]\n",
            "loss: 0.031383  [ 7936/20000]\n",
            "loss: 0.025409  [10496/20000]\n",
            "loss: 0.030280  [13056/20000]\n",
            "loss: 0.040428  [15616/20000]\n",
            "loss: 0.021819  [18176/20000]\n",
            "\n",
            " Val loss: 0.029460 \n",
            "\n",
            "Epoch 4\n",
            "-------------------------------\n",
            "loss: 0.029190  [  256/20000]\n",
            "loss: 0.022238  [ 2816/20000]\n",
            "loss: 0.028166  [ 5376/20000]\n",
            "loss: 0.019222  [ 7936/20000]\n",
            "loss: 0.045516  [10496/20000]\n",
            "loss: 0.035218  [13056/20000]\n",
            "loss: 0.033804  [15616/20000]\n",
            "loss: 0.034498  [18176/20000]\n",
            "\n",
            " Val loss: 0.027151 \n",
            "\n",
            "Epoch 5\n",
            "-------------------------------\n",
            "loss: 0.028707  [  256/20000]\n",
            "loss: 0.020551  [ 2816/20000]\n",
            "loss: 0.025994  [ 5376/20000]\n",
            "loss: 0.026814  [ 7936/20000]\n",
            "loss: 0.027074  [10496/20000]\n",
            "loss: 0.027996  [13056/20000]\n",
            "loss: 0.032029  [15616/20000]\n",
            "loss: 0.023166  [18176/20000]\n",
            "\n",
            " Val loss: 0.025440 \n",
            "\n",
            "Epoch 6\n",
            "-------------------------------\n",
            "loss: 0.029590  [  256/20000]\n",
            "loss: 0.033289  [ 2816/20000]\n",
            "loss: 0.017915  [ 5376/20000]\n",
            "loss: 0.016271  [ 7936/20000]\n",
            "loss: 0.021846  [10496/20000]\n",
            "loss: 0.026895  [13056/20000]\n",
            "loss: 0.020467  [15616/20000]\n",
            "loss: 0.021155  [18176/20000]\n",
            "\n",
            " Val loss: 0.024127 \n",
            "\n",
            "Epoch 7\n",
            "-------------------------------\n",
            "loss: 0.015209  [  256/20000]\n",
            "loss: 0.027205  [ 2816/20000]\n",
            "loss: 0.027924  [ 5376/20000]\n",
            "loss: 0.023381  [ 7936/20000]\n",
            "loss: 0.028111  [10496/20000]\n",
            "loss: 0.016228  [13056/20000]\n",
            "loss: 0.029700  [15616/20000]\n",
            "loss: 0.029797  [18176/20000]\n",
            "\n",
            " Val loss: 0.023088 \n",
            "\n",
            "Epoch 8\n",
            "-------------------------------\n",
            "loss: 0.021651  [  256/20000]\n",
            "loss: 0.031787  [ 2816/20000]\n",
            "loss: 0.028418  [ 5376/20000]\n",
            "loss: 0.023730  [ 7936/20000]\n",
            "loss: 0.022955  [10496/20000]\n",
            "loss: 0.023486  [13056/20000]\n",
            "loss: 0.022961  [15616/20000]\n",
            "loss: 0.014774  [18176/20000]\n",
            "\n",
            " Val loss: 0.022256 \n",
            "\n",
            "Epoch 9\n",
            "-------------------------------\n",
            "loss: 0.025489  [  256/20000]\n",
            "loss: 0.017041  [ 2816/20000]\n",
            "loss: 0.028537  [ 5376/20000]\n",
            "loss: 0.023214  [ 7936/20000]\n",
            "loss: 0.019710  [10496/20000]\n",
            "loss: 0.025373  [13056/20000]\n",
            "loss: 0.020389  [15616/20000]\n",
            "loss: 0.013465  [18176/20000]\n",
            "\n",
            " Val loss: 0.021574 \n",
            "\n",
            "Epoch 10\n",
            "-------------------------------\n",
            "loss: 0.023652  [  256/20000]\n",
            "loss: 0.022648  [ 2816/20000]\n",
            "loss: 0.029412  [ 5376/20000]\n",
            "loss: 0.019034  [ 7936/20000]\n",
            "loss: 0.023126  [10496/20000]\n",
            "loss: 0.022904  [13056/20000]\n",
            "loss: 0.026472  [15616/20000]\n",
            "loss: 0.018771  [18176/20000]\n",
            "\n",
            " Val loss: 0.021014 \n",
            "\n",
            "Epoch 11\n",
            "-------------------------------\n",
            "loss: 0.030213  [  256/20000]\n",
            "loss: 0.029193  [ 2816/20000]\n",
            "loss: 0.015444  [ 5376/20000]\n",
            "loss: 0.018234  [ 7936/20000]\n",
            "loss: 0.016627  [10496/20000]\n",
            "loss: 0.023573  [13056/20000]\n",
            "loss: 0.023048  [15616/20000]\n",
            "loss: 0.022867  [18176/20000]\n",
            "\n",
            " Val loss: 0.020535 \n",
            "\n",
            "Epoch 12\n",
            "-------------------------------\n",
            "loss: 0.023633  [  256/20000]\n",
            "loss: 0.029199  [ 2816/20000]\n",
            "loss: 0.016067  [ 5376/20000]\n",
            "loss: 0.017293  [ 7936/20000]\n",
            "loss: 0.016382  [10496/20000]\n",
            "loss: 0.019136  [13056/20000]\n",
            "loss: 0.021047  [15616/20000]\n",
            "loss: 0.033375  [18176/20000]\n",
            "\n",
            " Val loss: 0.020116 \n",
            "\n",
            "Epoch 13\n",
            "-------------------------------\n",
            "loss: 0.021783  [  256/20000]\n",
            "loss: 0.034630  [ 2816/20000]\n",
            "loss: 0.023068  [ 5376/20000]\n",
            "loss: 0.014015  [ 7936/20000]\n",
            "loss: 0.025971  [10496/20000]\n",
            "loss: 0.020063  [13056/20000]\n",
            "loss: 0.018823  [15616/20000]\n",
            "loss: 0.027974  [18176/20000]\n",
            "\n",
            " Val loss: 0.019759 \n",
            "\n",
            "Epoch 14\n",
            "-------------------------------\n",
            "loss: 0.027322  [  256/20000]\n",
            "loss: 0.024094  [ 2816/20000]\n",
            "loss: 0.007696  [ 5376/20000]\n",
            "loss: 0.018934  [ 7936/20000]\n",
            "loss: 0.016320  [10496/20000]\n",
            "loss: 0.034570  [13056/20000]\n",
            "loss: 0.018188  [15616/20000]\n",
            "loss: 0.025468  [18176/20000]\n",
            "\n",
            " Val loss: 0.019436 \n",
            "\n",
            "Epoch 15\n",
            "-------------------------------\n",
            "loss: 0.017747  [  256/20000]\n",
            "loss: 0.019059  [ 2816/20000]\n",
            "loss: 0.023968  [ 5376/20000]\n",
            "loss: 0.023977  [ 7936/20000]\n",
            "loss: 0.015252  [10496/20000]\n",
            "loss: 0.014598  [13056/20000]\n",
            "loss: 0.022869  [15616/20000]\n",
            "loss: 0.013726  [18176/20000]\n",
            "\n",
            " Val loss: 0.019148 \n",
            "\n",
            "Done!\n"
          ]
        }
      ]
    },
    {
      "cell_type": "code",
      "source": [
        "resid = y_test - model_1(X_test)"
      ],
      "metadata": {
        "id": "b7xKtpLu9mZ6"
      },
      "execution_count": 107,
      "outputs": []
    },
    {
      "cell_type": "code",
      "source": [
        "abs(resid).mean() / abs(y_test).mean()"
      ],
      "metadata": {
        "id": "l4NYckA8AXlL",
        "outputId": "5074b9a9-f7d6-46cf-aab9-08781fc07a13",
        "colab": {
          "base_uri": "https://localhost:8080/"
        }
      },
      "execution_count": 111,
      "outputs": [
        {
          "output_type": "execute_result",
          "data": {
            "text/plain": [
              "tensor(2.7032, dtype=torch.float64, grad_fn=<DivBackward0>)"
            ]
          },
          "metadata": {},
          "execution_count": 111
        }
      ]
    },
    {
      "cell_type": "code",
      "source": [
        "resid / y_test"
      ],
      "metadata": {
        "id": "YljkKTUMBanz",
        "outputId": "60478218-96dc-42e2-d1a4-46390074c5b9",
        "colab": {
          "base_uri": "https://localhost:8080/"
        }
      },
      "execution_count": 113,
      "outputs": [
        {
          "output_type": "execute_result",
          "data": {
            "text/plain": [
              "tensor([[-5.5257e+108],\n",
              "        [-2.2207e+139],\n",
              "        [  8.1820e-01],\n",
              "        ...,\n",
              "        [  2.9229e+01],\n",
              "        [ -6.1672e+66],\n",
              "        [  5.3086e+17]], dtype=torch.float64, grad_fn=<DivBackward0>)"
            ]
          },
          "metadata": {},
          "execution_count": 113
        }
      ]
    }
  ]
}