{
  "nbformat": 4,
  "nbformat_minor": 0,
  "metadata": {
    "colab": {
      "provenance": [],
      "authorship_tag": "ABX9TyPQAneLy5yWAhcELQ+yAsxQ",
      "include_colab_link": true
    },
    "kernelspec": {
      "name": "python3",
      "display_name": "Python 3"
    },
    "language_info": {
      "name": "python"
    }
  },
  "cells": [
    {
      "cell_type": "markdown",
      "metadata": {
        "id": "view-in-github",
        "colab_type": "text"
      },
      "source": [
        "<a href=\"https://colab.research.google.com/github/VladShajdulin/OTUS/blob/main/home_work_2.ipynb\" target=\"_parent\"><img src=\"https://colab.research.google.com/assets/colab-badge.svg\" alt=\"Open In Colab\"/></a>"
      ]
    },
    {
      "cell_type": "code",
      "execution_count": 1,
      "metadata": {
        "id": "zVe6GduqDiEi"
      },
      "outputs": [],
      "source": [
        "import numpy as np"
      ]
    },
    {
      "cell_type": "code",
      "source": [
        "low, high = -10, 10\n",
        "n_size = 20000\n",
        "rng = np.random.default_rng(seed=0)\n",
        "X = rng.uniform(low, high, size=(n_size, 2)).astype(np.float64)\n",
        "y = np.sin(X[:,0] + 2 * X[:,1]) * np.exp(-(2 * X[:,0] + X[:,1]) ** 2)"
      ],
      "metadata": {
        "id": "aV-wCMYlGHs2"
      },
      "execution_count": 7,
      "outputs": []
    },
    {
      "cell_type": "code",
      "source": [],
      "metadata": {
        "id": "Ja3ZQIUIJXCI"
      },
      "execution_count": null,
      "outputs": []
    }
  ]
}