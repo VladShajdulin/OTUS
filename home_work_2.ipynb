{
  "nbformat": 4,
  "nbformat_minor": 0,
  "metadata": {
    "colab": {
      "provenance": [],
      "authorship_tag": "ABX9TyOAj4eg2wmc7M/+oloMq+7S",
      "include_colab_link": true
    },
    "kernelspec": {
      "name": "python3",
      "display_name": "Python 3"
    },
    "language_info": {
      "name": "python"
    }
  },
  "cells": [
    {
      "cell_type": "markdown",
      "metadata": {
        "id": "view-in-github",
        "colab_type": "text"
      },
      "source": [
        "<a href=\"https://colab.research.google.com/github/VladShajdulin/OTUS/blob/main/home_work_2.ipynb\" target=\"_parent\"><img src=\"https://colab.research.google.com/assets/colab-badge.svg\" alt=\"Open In Colab\"/></a>"
      ]
    },
    {
      "cell_type": "code",
      "execution_count": 1,
      "metadata": {
        "id": "zVe6GduqDiEi"
      },
      "outputs": [],
      "source": [
        "import torch\n",
        "from torch import nn\n",
        "from torch.utils.data import DataLoader\n",
        "from torch.utils.data import Dataset\n",
        "from sklearn.model_selection import train_test_split"
      ]
    },
    {
      "cell_type": "code",
      "source": [
        "low, high = -10, 10\n",
        "n_size = 20000\n",
        "\n",
        "torch.manual_seed(142)\n",
        "X = (high - low) * torch.rand((n_size, 2), dtype=torch.float64) + low\n",
        "y = torch.sin(X[:,0] + 2 * X[:,1]) * torch.exp(-(2 * X[:,0] + X[:,1]) ** 2)\n",
        "y = torch.unsqueeze(y, -1)"
      ],
      "metadata": {
        "id": "Ja3ZQIUIJXCI"
      },
      "execution_count": 24,
      "outputs": []
    },
    {
      "cell_type": "code",
      "source": [
        "X_train, X_test, y_train, y_test = train_test_split(X, y, test_size=0.3, random_state=142)\n",
        "mu, std, delta = y_train.mean(), y_train.std(), 0.1\n",
        "y_train, y_test = (y_train - mu + delta) / std, (y_test - mu + delta) / std\n",
        "X_val, X_test, y_val, y_test = train_test_split(X_test, y_test, test_size=0.5, random_state=142)\n",
        "\n",
        "print(f'Training samples: {X_train.size()[0]}')\n",
        "print(f'Validating samples: {X_val.size()[0]}')\n",
        "print(f'Training samples: {X_test.size()[0]}')"
      ],
      "metadata": {
        "id": "Lx5dIrVoxVaA",
        "outputId": "571fac68-9375-43fa-b241-1ed633274256",
        "colab": {
          "base_uri": "https://localhost:8080/"
        }
      },
      "execution_count": 25,
      "outputs": [
        {
          "output_type": "stream",
          "name": "stdout",
          "text": [
            "Training samples: 14000\n",
            "Validating samples: 3000\n",
            "Training samples: 3000\n"
          ]
        }
      ]
    },
    {
      "cell_type": "code",
      "source": [
        "class XY_dataset(Dataset):\n",
        "  def __init__(self, X, y):\n",
        "    self.X = X\n",
        "    self.y = y\n",
        "\n",
        "  def __len__(self):\n",
        "    return self.X.size()[0]\n",
        "\n",
        "  def __getitem__(self, idx):\n",
        "    return self.X[idx], self.y[idx]"
      ],
      "metadata": {
        "id": "xYJ6VGANtvkf"
      },
      "execution_count": 26,
      "outputs": []
    },
    {
      "cell_type": "code",
      "source": [
        "def train(dataloader, model, loss_fn, optimizer, device):\n",
        "  size = len(dataloader.dataset)\n",
        "  model.train()\n",
        "  for batch, (X, y) in enumerate(dataloader):\n",
        "      X, y = X.to(device), y.to(device)\n",
        "\n",
        "      # Compute prediction error\n",
        "      pred = model(X)\n",
        "      loss = loss_fn(pred, y)\n",
        "\n",
        "      # Backpropagation\n",
        "      loss.backward()\n",
        "      optimizer.step()\n",
        "      optimizer.zero_grad()\n",
        "\n",
        "      if batch % 10 == 0:\n",
        "          loss, current = loss.item(), (batch + 1) * len(X)\n",
        "          print(f\"loss: {loss:>7f}  [{current:>5d}/{size:>5d}]\")\n",
        "\n",
        "\n",
        "def val(X, y, model, loss_fn):\n",
        "  model.eval()\n",
        "  with torch.no_grad():\n",
        "    pred = model(X)\n",
        "    loss = loss_fn(pred, y).item()\n",
        "    error = max(abs(y - pred)).item()\n",
        "\n",
        "  print(f\"\\n Val loss: {loss:>7f}, max error: {error:>5f} \\n\")"
      ],
      "metadata": {
        "id": "sxyfJcBb25uV"
      },
      "execution_count": 61,
      "outputs": []
    },
    {
      "cell_type": "code",
      "source": [
        "model_1 = nn.Sequential(\n",
        "    nn.Linear(2, 20, dtype=torch.float64),\n",
        "    nn.Softsign(),\n",
        "    nn.Linear(20, 20, dtype=torch.float64),\n",
        "    nn.Softsign(),\n",
        "    nn.Linear(20, 10, dtype=torch.float64),\n",
        "    nn.Softsign(),\n",
        "    nn.Linear(10, 1, dtype=torch.float64)\n",
        ")"
      ],
      "metadata": {
        "id": "B5ofmUZqzzer"
      },
      "execution_count": 87,
      "outputs": []
    },
    {
      "cell_type": "code",
      "source": [
        "batch_size = 64\n",
        "\n",
        "train_loader = XY_dataset(X_train, y_train)\n",
        "train_loader = DataLoader(train_loader, shuffle=True, batch_size=batch_size)\n",
        "device = torch.accelerator.current_accelerator().type if torch.accelerator.is_available() else 'cpu'\n",
        "print('Device', device)"
      ],
      "metadata": {
        "id": "u9nB-mvnzDre",
        "outputId": "79018016-764c-4e34-a245-7725e1e7bd72",
        "colab": {
          "base_uri": "https://localhost:8080/"
        }
      },
      "execution_count": 88,
      "outputs": [
        {
          "output_type": "stream",
          "name": "stdout",
          "text": [
            "Device cpu\n"
          ]
        }
      ]
    },
    {
      "cell_type": "code",
      "source": [
        "loss_fn = nn.L1Loss()\n",
        "optimizer = torch.optim.Adam(model_1.parameters())\n",
        "epochs = 10\n",
        "\n",
        "for t in range(epochs):\n",
        "  print(f\"Epoch {t+1}\\n-------------------------------\")\n",
        "  train(train_loader, model_1, loss_fn, optimizer, device)\n",
        "  val(X_val, y_val, model_1, loss_fn)\n",
        "print(\"Done!\")"
      ],
      "metadata": {
        "id": "M4XNSnPL7pDY",
        "outputId": "5d4d6071-ed81-4e23-8386-ed98ee80d748",
        "colab": {
          "base_uri": "https://localhost:8080/"
        }
      },
      "execution_count": 89,
      "outputs": [
        {
          "output_type": "stream",
          "name": "stdout",
          "text": [
            "Epoch 1\n",
            "-------------------------------\n",
            "loss: 1.262879  [   64/14000]\n",
            "loss: 1.133521  [  704/14000]\n",
            "loss: 1.108327  [ 1344/14000]\n",
            "loss: 0.907854  [ 1984/14000]\n",
            "loss: 0.987849  [ 2624/14000]\n",
            "loss: 0.617280  [ 3264/14000]\n",
            "loss: 0.581413  [ 3904/14000]\n",
            "loss: 0.482333  [ 4544/14000]\n",
            "loss: 0.463959  [ 5184/14000]\n",
            "loss: 0.220458  [ 5824/14000]\n",
            "loss: 0.147505  [ 6464/14000]\n",
            "loss: 0.531659  [ 7104/14000]\n",
            "loss: 0.110791  [ 7744/14000]\n",
            "loss: 0.268849  [ 8384/14000]\n",
            "loss: 0.113059  [ 9024/14000]\n",
            "loss: 0.352869  [ 9664/14000]\n",
            "loss: 0.220894  [10304/14000]\n",
            "loss: 0.219160  [10944/14000]\n",
            "loss: 0.377700  [11584/14000]\n",
            "loss: 0.208319  [12224/14000]\n",
            "loss: 0.143368  [12864/14000]\n",
            "loss: 0.174426  [13504/14000]\n",
            "\n",
            " Val loss: 0.238697, max error: 7.696066 \n",
            "\n",
            "Epoch 2\n",
            "-------------------------------\n",
            "loss: 0.147500  [   64/14000]\n",
            "loss: 0.413572  [  704/14000]\n",
            "loss: 0.152566  [ 1344/14000]\n",
            "loss: 0.251652  [ 1984/14000]\n",
            "loss: 0.263142  [ 2624/14000]\n",
            "loss: 0.122740  [ 3264/14000]\n",
            "loss: 0.215972  [ 3904/14000]\n",
            "loss: 0.246208  [ 4544/14000]\n",
            "loss: 0.243625  [ 5184/14000]\n",
            "loss: 0.232053  [ 5824/14000]\n",
            "loss: 0.180347  [ 6464/14000]\n",
            "loss: 0.333335  [ 7104/14000]\n",
            "loss: 0.010673  [ 7744/14000]\n",
            "loss: 0.235800  [ 8384/14000]\n",
            "loss: 0.348001  [ 9024/14000]\n",
            "loss: 0.137485  [ 9664/14000]\n",
            "loss: 0.369900  [10304/14000]\n",
            "loss: 0.109313  [10944/14000]\n",
            "loss: 0.265113  [11584/14000]\n",
            "loss: 0.321380  [12224/14000]\n",
            "loss: 0.148606  [12864/14000]\n",
            "loss: 0.105923  [13504/14000]\n",
            "\n",
            " Val loss: 0.223985, max error: 7.706079 \n",
            "\n",
            "Epoch 3\n",
            "-------------------------------\n",
            "loss: 0.062301  [   64/14000]\n",
            "loss: 0.114770  [  704/14000]\n",
            "loss: 0.154711  [ 1344/14000]\n",
            "loss: 0.340787  [ 1984/14000]\n",
            "loss: 0.173923  [ 2624/14000]\n",
            "loss: 0.288010  [ 3264/14000]\n",
            "loss: 0.303069  [ 3904/14000]\n",
            "loss: 0.377441  [ 4544/14000]\n",
            "loss: 0.367852  [ 5184/14000]\n",
            "loss: 0.179038  [ 5824/14000]\n",
            "loss: 0.158277  [ 6464/14000]\n",
            "loss: 0.556326  [ 7104/14000]\n",
            "loss: 0.163391  [ 7744/14000]\n",
            "loss: 0.120740  [ 8384/14000]\n",
            "loss: 0.250109  [ 9024/14000]\n",
            "loss: 0.118999  [ 9664/14000]\n",
            "loss: 0.450910  [10304/14000]\n",
            "loss: 0.390879  [10944/14000]\n",
            "loss: 0.258732  [11584/14000]\n",
            "loss: 0.172672  [12224/14000]\n",
            "loss: 0.344950  [12864/14000]\n",
            "loss: 0.181783  [13504/14000]\n",
            "\n",
            " Val loss: 0.222477, max error: 7.712390 \n",
            "\n",
            "Epoch 4\n",
            "-------------------------------\n",
            "loss: 0.324377  [   64/14000]\n",
            "loss: 0.186044  [  704/14000]\n",
            "loss: 0.353037  [ 1344/14000]\n",
            "loss: 0.107282  [ 1984/14000]\n",
            "loss: 0.594583  [ 2624/14000]\n",
            "loss: 0.291439  [ 3264/14000]\n",
            "loss: 0.394590  [ 3904/14000]\n",
            "loss: 0.486790  [ 4544/14000]\n",
            "loss: 0.089780  [ 5184/14000]\n",
            "loss: 0.303106  [ 5824/14000]\n",
            "loss: 0.238977  [ 6464/14000]\n",
            "loss: 0.396520  [ 7104/14000]\n",
            "loss: 0.200926  [ 7744/14000]\n",
            "loss: 0.340421  [ 8384/14000]\n",
            "loss: 0.281771  [ 9024/14000]\n",
            "loss: 0.170016  [ 9664/14000]\n",
            "loss: 0.102017  [10304/14000]\n",
            "loss: 0.282619  [10944/14000]\n",
            "loss: 0.113776  [11584/14000]\n",
            "loss: 0.263620  [12224/14000]\n",
            "loss: 0.109985  [12864/14000]\n",
            "loss: 0.249123  [13504/14000]\n",
            "\n",
            " Val loss: 0.222332, max error: 7.713499 \n",
            "\n",
            "Epoch 5\n",
            "-------------------------------\n",
            "loss: 0.143418  [   64/14000]\n",
            "loss: 0.270550  [  704/14000]\n",
            "loss: 0.255458  [ 1344/14000]\n",
            "loss: 0.045023  [ 1984/14000]\n",
            "loss: 0.437380  [ 2624/14000]\n",
            "loss: 0.222290  [ 3264/14000]\n",
            "loss: 0.190006  [ 3904/14000]\n",
            "loss: 0.070660  [ 4544/14000]\n",
            "loss: 0.066847  [ 5184/14000]\n",
            "loss: 0.114999  [ 5824/14000]\n",
            "loss: 0.361333  [ 6464/14000]\n",
            "loss: 0.267030  [ 7104/14000]\n",
            "loss: 0.080270  [ 7744/14000]\n",
            "loss: 0.088020  [ 8384/14000]\n",
            "loss: 0.140603  [ 9024/14000]\n",
            "loss: 0.411470  [ 9664/14000]\n",
            "loss: 0.241734  [10304/14000]\n",
            "loss: 0.345553  [10944/14000]\n",
            "loss: 0.236387  [11584/14000]\n",
            "loss: 0.333230  [12224/14000]\n",
            "loss: 0.083477  [12864/14000]\n",
            "loss: 0.028786  [13504/14000]\n",
            "\n",
            " Val loss: 0.222400, max error: 7.712571 \n",
            "\n",
            "Epoch 6\n",
            "-------------------------------\n",
            "loss: 0.258610  [   64/14000]\n",
            "loss: 0.008383  [  704/14000]\n",
            "loss: 0.093805  [ 1344/14000]\n",
            "loss: 0.207279  [ 1984/14000]\n",
            "loss: 0.089522  [ 2624/14000]\n",
            "loss: 0.208977  [ 3264/14000]\n",
            "loss: 0.175500  [ 3904/14000]\n",
            "loss: 0.209358  [ 4544/14000]\n",
            "loss: 0.195785  [ 5184/14000]\n",
            "loss: 0.157259  [ 5824/14000]\n",
            "loss: 0.324860  [ 6464/14000]\n",
            "loss: 0.145111  [ 7104/14000]\n",
            "loss: 0.204209  [ 7744/14000]\n",
            "loss: 0.191878  [ 8384/14000]\n",
            "loss: 0.287693  [ 9024/14000]\n",
            "loss: 0.453095  [ 9664/14000]\n",
            "loss: 0.543461  [10304/14000]\n",
            "loss: 0.345345  [10944/14000]\n",
            "loss: 0.260912  [11584/14000]\n",
            "loss: 0.260751  [12224/14000]\n",
            "loss: 0.185032  [12864/14000]\n",
            "loss: 0.094303  [13504/14000]\n",
            "\n",
            " Val loss: 0.222466, max error: 7.720759 \n",
            "\n",
            "Epoch 7\n",
            "-------------------------------\n",
            "loss: 0.195976  [   64/14000]\n",
            "loss: 0.494070  [  704/14000]\n",
            "loss: 0.617921  [ 1344/14000]\n",
            "loss: 0.319149  [ 1984/14000]\n",
            "loss: 0.116899  [ 2624/14000]\n",
            "loss: 0.273413  [ 3264/14000]\n",
            "loss: 0.045311  [ 3904/14000]\n",
            "loss: 0.158497  [ 4544/14000]\n",
            "loss: 0.118730  [ 5184/14000]\n",
            "loss: 0.271671  [ 5824/14000]\n",
            "loss: 0.075909  [ 6464/14000]\n",
            "loss: 0.265097  [ 7104/14000]\n",
            "loss: 0.140405  [ 7744/14000]\n",
            "loss: 0.375569  [ 8384/14000]\n",
            "loss: 0.167741  [ 9024/14000]\n",
            "loss: 0.235491  [ 9664/14000]\n",
            "loss: 0.224670  [10304/14000]\n",
            "loss: 0.264910  [10944/14000]\n",
            "loss: 0.127421  [11584/14000]\n",
            "loss: 0.227521  [12224/14000]\n",
            "loss: 0.013911  [12864/14000]\n",
            "loss: 0.259024  [13504/14000]\n",
            "\n",
            " Val loss: 0.221719, max error: 7.716890 \n",
            "\n",
            "Epoch 8\n",
            "-------------------------------\n",
            "loss: 0.146914  [   64/14000]\n",
            "loss: 0.020944  [  704/14000]\n",
            "loss: 0.332536  [ 1344/14000]\n",
            "loss: 0.189237  [ 1984/14000]\n",
            "loss: 0.067019  [ 2624/14000]\n",
            "loss: 0.122551  [ 3264/14000]\n",
            "loss: 0.073021  [ 3904/14000]\n",
            "loss: 0.202903  [ 4544/14000]\n",
            "loss: 0.268521  [ 5184/14000]\n",
            "loss: 0.132592  [ 5824/14000]\n",
            "loss: 0.207647  [ 6464/14000]\n",
            "loss: 0.742797  [ 7104/14000]\n",
            "loss: 0.364285  [ 7744/14000]\n",
            "loss: 0.183632  [ 8384/14000]\n",
            "loss: 0.196202  [ 9024/14000]\n",
            "loss: 0.203126  [ 9664/14000]\n",
            "loss: 0.353753  [10304/14000]\n",
            "loss: 0.200384  [10944/14000]\n",
            "loss: 0.331363  [11584/14000]\n",
            "loss: 0.112173  [12224/14000]\n",
            "loss: 0.247246  [12864/14000]\n",
            "loss: 0.063445  [13504/14000]\n",
            "\n",
            " Val loss: 0.221960, max error: 7.717597 \n",
            "\n",
            "Epoch 9\n",
            "-------------------------------\n",
            "loss: 0.135116  [   64/14000]\n",
            "loss: 0.606411  [  704/14000]\n",
            "loss: 0.066184  [ 1344/14000]\n",
            "loss: 0.304162  [ 1984/14000]\n",
            "loss: 0.241592  [ 2624/14000]\n",
            "loss: 0.297014  [ 3264/14000]\n",
            "loss: 0.189610  [ 3904/14000]\n",
            "loss: 0.229375  [ 4544/14000]\n",
            "loss: 0.142690  [ 5184/14000]\n",
            "loss: 0.065934  [ 5824/14000]\n",
            "loss: 0.079121  [ 6464/14000]\n",
            "loss: 0.384241  [ 7104/14000]\n",
            "loss: 0.340143  [ 7744/14000]\n",
            "loss: 0.236950  [ 8384/14000]\n",
            "loss: 0.468960  [ 9024/14000]\n",
            "loss: 0.343538  [ 9664/14000]\n",
            "loss: 0.145887  [10304/14000]\n",
            "loss: 0.288227  [10944/14000]\n",
            "loss: 0.334448  [11584/14000]\n",
            "loss: 0.316574  [12224/14000]\n",
            "loss: 0.252482  [12864/14000]\n",
            "loss: 0.155971  [13504/14000]\n",
            "\n",
            " Val loss: 0.221918, max error: 7.718025 \n",
            "\n",
            "Epoch 10\n",
            "-------------------------------\n",
            "loss: 0.307393  [   64/14000]\n",
            "loss: 0.192132  [  704/14000]\n",
            "loss: 0.053460  [ 1344/14000]\n",
            "loss: 0.030527  [ 1984/14000]\n",
            "loss: 0.450145  [ 2624/14000]\n",
            "loss: 0.158545  [ 3264/14000]\n",
            "loss: 0.486964  [ 3904/14000]\n",
            "loss: 0.301326  [ 4544/14000]\n",
            "loss: 0.094293  [ 5184/14000]\n",
            "loss: 0.182136  [ 5824/14000]\n",
            "loss: 0.160960  [ 6464/14000]\n",
            "loss: 0.200877  [ 7104/14000]\n",
            "loss: 0.298716  [ 7744/14000]\n",
            "loss: 0.268701  [ 8384/14000]\n",
            "loss: 0.183752  [ 9024/14000]\n",
            "loss: 0.388531  [ 9664/14000]\n",
            "loss: 0.131808  [10304/14000]\n",
            "loss: 0.196557  [10944/14000]\n",
            "loss: 0.206347  [11584/14000]\n",
            "loss: 0.273318  [12224/14000]\n",
            "loss: 0.130004  [12864/14000]\n",
            "loss: 0.311372  [13504/14000]\n",
            "\n",
            " Val loss: 0.221193, max error: 7.716038 \n",
            "\n",
            "Done!\n"
          ]
        }
      ]
    },
    {
      "cell_type": "code",
      "source": [
        "y_test * std + mu - delta"
      ],
      "metadata": {
        "id": "ryLkL9v0TU6M",
        "outputId": "9b3f9e50-ed7d-412e-85a1-fb340f5a170b",
        "colab": {
          "base_uri": "https://localhost:8080/"
        }
      },
      "execution_count": 71,
      "outputs": [
        {
          "output_type": "execute_result",
          "data": {
            "text/plain": [
              "tensor([[ 0.0000],\n",
              "        [ 0.0000],\n",
              "        [ 0.1077],\n",
              "        ...,\n",
              "        [-0.0017],\n",
              "        [ 0.0000],\n",
              "        [ 0.0000]], dtype=torch.float64)"
            ]
          },
          "metadata": {},
          "execution_count": 71
        }
      ]
    }
  ]
}