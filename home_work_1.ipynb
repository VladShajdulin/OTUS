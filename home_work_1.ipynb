{
 "cells": [
  {
   "cell_type": "code",
   "execution_count": 1,
   "id": "d31dd171-fd74-4c12-b24a-9bf5eef2377a",
   "metadata": {},
   "outputs": [],
   "source": [
    "import requests\n",
    "from fake_useragent import UserAgent\n",
    "from bs4 import BeautifulSoup"
   ]
  },
  {
   "cell_type": "markdown",
   "id": "5e7780f3-f2b8-4991-b96e-5c6b636e2352",
   "metadata": {},
   "source": [
    "# Парсинг \n",
    "Для парсинга я выбрал сайт Naked Science, который содержит научнопопулярные статьи и новости из мира науки. Из каждой статьи можно вытащить ее название, автора, дату публикации, сам текст статьи, хэштеги и количество просмотров в качестве целевой переменной."
   ]
  },
  {
   "cell_type": "code",
   "execution_count": 5,
   "id": "1c0be9bc-1aec-49e7-803f-e3bede6edc31",
   "metadata": {},
   "outputs": [],
   "source": [
    "user_ag = UserAgent()\n",
    "main_link = 'https://naked-science.ru/article/astronomy/polyarnoe-siyanie-na-bluz'"
   ]
  },
  {
   "cell_type": "code",
   "execution_count": 9,
   "id": "4fcb6457-0d8f-49c7-b41d-b64b8509ba16",
   "metadata": {},
   "outputs": [
    {
     "data": {
      "text/plain": [
       "True"
      ]
     },
     "execution_count": 9,
     "metadata": {},
     "output_type": "execute_result"
    }
   ],
   "source": [
    "response = requests.get(main_link, headers={'User-Agent': user_ag.random})\n",
    "response.ok"
   ]
  },
  {
   "cell_type": "code",
   "execution_count": 10,
   "id": "bb845e61-6b51-45cd-8fca-78936651fafd",
   "metadata": {},
   "outputs": [],
   "source": [
    "soup = BeautifulSoup(response.content, 'html.parser')"
   ]
  },
  {
   "cell_type": "code",
   "execution_count": 22,
   "id": "0cad6d18-e8a0-4f54-9fdd-c07a5586ffc1",
   "metadata": {},
   "outputs": [
    {
     "data": {
      "text/plain": [
       "'Любовь С.'"
      ]
     },
     "execution_count": 22,
     "metadata": {},
     "output_type": "execute_result"
    }
   ],
   "source": [
    "result = soup.find_all('div', attrs = {'class':'meta-item meta-item_author'})\n",
    "result[0].string.strip()"
   ]
  }
 ],
 "metadata": {
  "kernelspec": {
   "display_name": "Python [conda env:my-env]",
   "language": "python",
   "name": "conda-env-my-env-py"
  },
  "language_info": {
   "codemirror_mode": {
    "name": "ipython",
    "version": 3
   },
   "file_extension": ".py",
   "mimetype": "text/x-python",
   "name": "python",
   "nbconvert_exporter": "python",
   "pygments_lexer": "ipython3",
   "version": "3.12.7"
  }
 },
 "nbformat": 4,
 "nbformat_minor": 5
}
